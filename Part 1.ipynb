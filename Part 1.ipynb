{
 "cells": [
  {
   "cell_type": "code",
   "execution_count": 23,
   "metadata": {},
   "outputs": [],
   "source": [
    "import pandas as pd\n",
    "import numpy as np\n",
    "import seaborn as sns\n",
    "import matplotlib.pyplot as plt"
   ]
  },
  {
   "cell_type": "markdown",
   "metadata": {},
   "source": [
    "## Load the data and sort by date"
   ]
  },
  {
   "cell_type": "code",
   "execution_count": 2,
   "metadata": {},
   "outputs": [],
   "source": [
    "data = pd.read_csv('phq_all_final.csv')"
   ]
  },
  {
   "cell_type": "code",
   "execution_count": 3,
   "metadata": {},
   "outputs": [
    {
     "data": {
      "text/html": [
       "<div>\n",
       "<style scoped>\n",
       "    .dataframe tbody tr th:only-of-type {\n",
       "        vertical-align: middle;\n",
       "    }\n",
       "\n",
       "    .dataframe tbody tr th {\n",
       "        vertical-align: top;\n",
       "    }\n",
       "\n",
       "    .dataframe thead th {\n",
       "        text-align: right;\n",
       "    }\n",
       "</style>\n",
       "<table border=\"1\" class=\"dataframe\">\n",
       "  <thead>\n",
       "    <tr style=\"text-align: right;\">\n",
       "      <th></th>\n",
       "      <th>date</th>\n",
       "      <th>patient_id</th>\n",
       "      <th>type</th>\n",
       "      <th>patient_date_created</th>\n",
       "      <th>score</th>\n",
       "    </tr>\n",
       "  </thead>\n",
       "  <tbody>\n",
       "    <tr>\n",
       "      <th>0</th>\n",
       "      <td>2019-08-26T13:32:43.019162</td>\n",
       "      <td>8430</td>\n",
       "      <td>gad7</td>\n",
       "      <td>2019-06-03T13:23:02.63568</td>\n",
       "      <td>6</td>\n",
       "    </tr>\n",
       "    <tr>\n",
       "      <th>1</th>\n",
       "      <td>2019-11-15T17:55:11.364877</td>\n",
       "      <td>8430</td>\n",
       "      <td>gad7</td>\n",
       "      <td>2019-06-03T13:23:02.63568</td>\n",
       "      <td>1</td>\n",
       "    </tr>\n",
       "    <tr>\n",
       "      <th>2</th>\n",
       "      <td>2019-10-07T18:23:29.611351</td>\n",
       "      <td>14338</td>\n",
       "      <td>gad7</td>\n",
       "      <td>2019-06-03T13:32:30.66846</td>\n",
       "      <td>10</td>\n",
       "    </tr>\n",
       "    <tr>\n",
       "      <th>3</th>\n",
       "      <td>2019-11-04T20:16:28.610965</td>\n",
       "      <td>14338</td>\n",
       "      <td>gad7</td>\n",
       "      <td>2019-06-03T13:32:30.66846</td>\n",
       "      <td>7</td>\n",
       "    </tr>\n",
       "    <tr>\n",
       "      <th>4</th>\n",
       "      <td>2019-12-02T20:56:55.966354</td>\n",
       "      <td>14338</td>\n",
       "      <td>gad7</td>\n",
       "      <td>2019-06-03T13:32:30.66846</td>\n",
       "      <td>9</td>\n",
       "    </tr>\n",
       "    <tr>\n",
       "      <th>...</th>\n",
       "      <td>...</td>\n",
       "      <td>...</td>\n",
       "      <td>...</td>\n",
       "      <td>...</td>\n",
       "      <td>...</td>\n",
       "    </tr>\n",
       "    <tr>\n",
       "      <th>53693</th>\n",
       "      <td>2020-07-31T13:59:13.201741</td>\n",
       "      <td>10683</td>\n",
       "      <td>gad7</td>\n",
       "      <td>2020-07-31T13:54:20.164253</td>\n",
       "      <td>1</td>\n",
       "    </tr>\n",
       "    <tr>\n",
       "      <th>53694</th>\n",
       "      <td>2020-07-31T15:08:56.079027</td>\n",
       "      <td>12344</td>\n",
       "      <td>gad7</td>\n",
       "      <td>2020-07-31T15:06:51.04373</td>\n",
       "      <td>1</td>\n",
       "    </tr>\n",
       "    <tr>\n",
       "      <th>53695</th>\n",
       "      <td>2020-07-31T15:52:50.353265</td>\n",
       "      <td>17475</td>\n",
       "      <td>gad7</td>\n",
       "      <td>2020-07-31T15:40:07.726529</td>\n",
       "      <td>7</td>\n",
       "    </tr>\n",
       "    <tr>\n",
       "      <th>53696</th>\n",
       "      <td>2020-07-31T17:36:57.057913</td>\n",
       "      <td>9069</td>\n",
       "      <td>gad7</td>\n",
       "      <td>2020-07-31T17:33:27.096572</td>\n",
       "      <td>3</td>\n",
       "    </tr>\n",
       "    <tr>\n",
       "      <th>53697</th>\n",
       "      <td>2020-07-31T17:58:53.067462</td>\n",
       "      <td>4870</td>\n",
       "      <td>gad7</td>\n",
       "      <td>2020-07-31T17:58:21.004418</td>\n",
       "      <td>4</td>\n",
       "    </tr>\n",
       "  </tbody>\n",
       "</table>\n",
       "<p>53698 rows × 5 columns</p>\n",
       "</div>"
      ],
      "text/plain": [
       "                             date  patient_id  type  \\\n",
       "0      2019-08-26T13:32:43.019162        8430  gad7   \n",
       "1      2019-11-15T17:55:11.364877        8430  gad7   \n",
       "2      2019-10-07T18:23:29.611351       14338  gad7   \n",
       "3      2019-11-04T20:16:28.610965       14338  gad7   \n",
       "4      2019-12-02T20:56:55.966354       14338  gad7   \n",
       "...                           ...         ...   ...   \n",
       "53693  2020-07-31T13:59:13.201741       10683  gad7   \n",
       "53694  2020-07-31T15:08:56.079027       12344  gad7   \n",
       "53695  2020-07-31T15:52:50.353265       17475  gad7   \n",
       "53696  2020-07-31T17:36:57.057913        9069  gad7   \n",
       "53697  2020-07-31T17:58:53.067462        4870  gad7   \n",
       "\n",
       "             patient_date_created  score  \n",
       "0       2019-06-03T13:23:02.63568      6  \n",
       "1       2019-06-03T13:23:02.63568      1  \n",
       "2       2019-06-03T13:32:30.66846     10  \n",
       "3       2019-06-03T13:32:30.66846      7  \n",
       "4       2019-06-03T13:32:30.66846      9  \n",
       "...                           ...    ...  \n",
       "53693  2020-07-31T13:54:20.164253      1  \n",
       "53694   2020-07-31T15:06:51.04373      1  \n",
       "53695  2020-07-31T15:40:07.726529      7  \n",
       "53696  2020-07-31T17:33:27.096572      3  \n",
       "53697  2020-07-31T17:58:21.004418      4  \n",
       "\n",
       "[53698 rows x 5 columns]"
      ]
     },
     "execution_count": 3,
     "metadata": {},
     "output_type": "execute_result"
    }
   ],
   "source": [
    "data"
   ]
  },
  {
   "cell_type": "code",
   "execution_count": 4,
   "metadata": {},
   "outputs": [],
   "source": [
    "data.sort_values('date', inplace=True)"
   ]
  },
  {
   "cell_type": "code",
   "execution_count": 5,
   "metadata": {},
   "outputs": [
    {
     "data": {
      "text/html": [
       "<div>\n",
       "<style scoped>\n",
       "    .dataframe tbody tr th:only-of-type {\n",
       "        vertical-align: middle;\n",
       "    }\n",
       "\n",
       "    .dataframe tbody tr th {\n",
       "        vertical-align: top;\n",
       "    }\n",
       "\n",
       "    .dataframe thead th {\n",
       "        text-align: right;\n",
       "    }\n",
       "</style>\n",
       "<table border=\"1\" class=\"dataframe\">\n",
       "  <thead>\n",
       "    <tr style=\"text-align: right;\">\n",
       "      <th></th>\n",
       "      <th>date</th>\n",
       "      <th>patient_id</th>\n",
       "      <th>type</th>\n",
       "      <th>patient_date_created</th>\n",
       "      <th>score</th>\n",
       "    </tr>\n",
       "  </thead>\n",
       "  <tbody>\n",
       "    <tr>\n",
       "      <th>58</th>\n",
       "      <td>2019-06-06T16:31:34.960999</td>\n",
       "      <td>9834</td>\n",
       "      <td>gad7</td>\n",
       "      <td>2019-06-04T13:20:52.492773</td>\n",
       "      <td>15</td>\n",
       "    </tr>\n",
       "    <tr>\n",
       "      <th>52</th>\n",
       "      <td>2019-06-07T07:17:53.394337</td>\n",
       "      <td>9130</td>\n",
       "      <td>gad7</td>\n",
       "      <td>2019-06-03T21:14:27.6175</td>\n",
       "      <td>0</td>\n",
       "    </tr>\n",
       "    <tr>\n",
       "      <th>7</th>\n",
       "      <td>2019-06-07T13:05:01.435941</td>\n",
       "      <td>3788</td>\n",
       "      <td>gad7</td>\n",
       "      <td>2019-06-03T14:48:09.129756</td>\n",
       "      <td>0</td>\n",
       "    </tr>\n",
       "    <tr>\n",
       "      <th>132</th>\n",
       "      <td>2019-06-09T16:44:23.212699</td>\n",
       "      <td>3915</td>\n",
       "      <td>gad7</td>\n",
       "      <td>2019-06-04T19:22:24.75424</td>\n",
       "      <td>4</td>\n",
       "    </tr>\n",
       "    <tr>\n",
       "      <th>140</th>\n",
       "      <td>2019-06-09T22:54:50.120132</td>\n",
       "      <td>16617</td>\n",
       "      <td>gad7</td>\n",
       "      <td>2019-06-04T19:28:38.734048</td>\n",
       "      <td>12</td>\n",
       "    </tr>\n",
       "    <tr>\n",
       "      <th>...</th>\n",
       "      <td>...</td>\n",
       "      <td>...</td>\n",
       "      <td>...</td>\n",
       "      <td>...</td>\n",
       "      <td>...</td>\n",
       "    </tr>\n",
       "    <tr>\n",
       "      <th>47174</th>\n",
       "      <td>2020-07-31T19:53:45.98809</td>\n",
       "      <td>9662</td>\n",
       "      <td>gad7</td>\n",
       "      <td>2020-04-06T22:04:28.746347</td>\n",
       "      <td>7</td>\n",
       "    </tr>\n",
       "    <tr>\n",
       "      <th>33461</th>\n",
       "      <td>2020-07-31T20:01:26.115163</td>\n",
       "      <td>999</td>\n",
       "      <td>gad7</td>\n",
       "      <td>2020-02-04T21:40:55.624196</td>\n",
       "      <td>3</td>\n",
       "    </tr>\n",
       "    <tr>\n",
       "      <th>50156</th>\n",
       "      <td>2020-07-31T20:01:56.773677</td>\n",
       "      <td>12696</td>\n",
       "      <td>gad7</td>\n",
       "      <td>2020-05-05T19:50:04.906831</td>\n",
       "      <td>4</td>\n",
       "    </tr>\n",
       "    <tr>\n",
       "      <th>43895</th>\n",
       "      <td>2020-07-31T20:05:53.520605</td>\n",
       "      <td>2912</td>\n",
       "      <td>gad7</td>\n",
       "      <td>2020-03-23T16:08:39.976328</td>\n",
       "      <td>4</td>\n",
       "    </tr>\n",
       "    <tr>\n",
       "      <th>49659</th>\n",
       "      <td>2020-07-31T20:11:33.663924</td>\n",
       "      <td>12589</td>\n",
       "      <td>gad7</td>\n",
       "      <td>2020-04-28T16:23:07.483774</td>\n",
       "      <td>5</td>\n",
       "    </tr>\n",
       "  </tbody>\n",
       "</table>\n",
       "<p>53698 rows × 5 columns</p>\n",
       "</div>"
      ],
      "text/plain": [
       "                             date  patient_id  type  \\\n",
       "58     2019-06-06T16:31:34.960999        9834  gad7   \n",
       "52     2019-06-07T07:17:53.394337        9130  gad7   \n",
       "7      2019-06-07T13:05:01.435941        3788  gad7   \n",
       "132    2019-06-09T16:44:23.212699        3915  gad7   \n",
       "140    2019-06-09T22:54:50.120132       16617  gad7   \n",
       "...                           ...         ...   ...   \n",
       "47174   2020-07-31T19:53:45.98809        9662  gad7   \n",
       "33461  2020-07-31T20:01:26.115163         999  gad7   \n",
       "50156  2020-07-31T20:01:56.773677       12696  gad7   \n",
       "43895  2020-07-31T20:05:53.520605        2912  gad7   \n",
       "49659  2020-07-31T20:11:33.663924       12589  gad7   \n",
       "\n",
       "             patient_date_created  score  \n",
       "58     2019-06-04T13:20:52.492773     15  \n",
       "52       2019-06-03T21:14:27.6175      0  \n",
       "7      2019-06-03T14:48:09.129756      0  \n",
       "132     2019-06-04T19:22:24.75424      4  \n",
       "140    2019-06-04T19:28:38.734048     12  \n",
       "...                           ...    ...  \n",
       "47174  2020-04-06T22:04:28.746347      7  \n",
       "33461  2020-02-04T21:40:55.624196      3  \n",
       "50156  2020-05-05T19:50:04.906831      4  \n",
       "43895  2020-03-23T16:08:39.976328      4  \n",
       "49659  2020-04-28T16:23:07.483774      5  \n",
       "\n",
       "[53698 rows x 5 columns]"
      ]
     },
     "execution_count": 5,
     "metadata": {},
     "output_type": "execute_result"
    }
   ],
   "source": [
    "data"
   ]
  },
  {
   "cell_type": "markdown",
   "metadata": {},
   "source": [
    "## Check how many types there are"
   ]
  },
  {
   "cell_type": "code",
   "execution_count": 7,
   "metadata": {},
   "outputs": [
    {
     "data": {
      "text/plain": [
       "gad7    53698\n",
       "Name: type, dtype: int64"
      ]
     },
     "execution_count": 7,
     "metadata": {},
     "output_type": "execute_result"
    }
   ],
   "source": [
    "data['type'].value_counts()"
   ]
  },
  {
   "cell_type": "markdown",
   "metadata": {},
   "source": [
    "Since there is only one, this column doesn't provide any information"
   ]
  },
  {
   "cell_type": "markdown",
   "metadata": {},
   "source": [
    "## Remove the patients that have only one score and plot the dynamics for random patients"
   ]
  },
  {
   "cell_type": "code",
   "execution_count": 8,
   "metadata": {},
   "outputs": [],
   "source": [
    "single_observation_patients = data['patient_id'].value_counts()[data['patient_id'].value_counts() == 1].index\n",
    "data = data[~data['patient_id'].isin(single_observation_patients)]"
   ]
  },
  {
   "cell_type": "code",
   "execution_count": 131,
   "metadata": {},
   "outputs": [
    {
     "data": {
      "image/png": "[encoded data removed]",
      "text/plain": [
       "<Figure size 432x288 with 1 Axes>"
      ]
     },
     "metadata": {
      "needs_background": "light"
     },
     "output_type": "display_data"
    }
   ],
   "source": [
    "for _ in range(5):\n",
    "    patient = np.random.choice(data['patient_id'].unique())\n",
    "    scores = data[data['patient_id'] == patient]['score']\n",
    "    sns.lineplot(range(len(scores)), scores).set(ylim=(-1, 22))"
   ]
  },
  {
   "cell_type": "markdown",
   "metadata": {},
   "source": [
    "## Plot the distribution of patient_date_created and distribution of scores over time"
   ]
  },
  {
   "cell_type": "code",
   "execution_count": 10,
   "metadata": {},
   "outputs": [
    {
     "data": {
      "text/plain": [
       "<matplotlib.axes._subplots.AxesSubplot at 0x2351fe32548>"
      ]
     },
     "execution_count": 10,
     "metadata": {},
     "output_type": "execute_result"
    },
    {
     "data": {
      "image/png": "[encoded data removed]",
      "text/plain": [
       "<Figure size 432x288 with 1 Axes>"
      ]
     },
     "metadata": {
      "needs_background": "light"
     },
     "output_type": "display_data"
    }
   ],
   "source": [
    "sns.distplot(pd.to_datetime(data['patient_date_created']))"
   ]
  },
  {
   "cell_type": "code",
   "execution_count": 15,
   "metadata": {},
   "outputs": [
    {
     "data": {
      "text/plain": [
       "('2019-06-03T13:23:02.63568', '2020-07-31T17:58:21.004418')"
      ]
     },
     "execution_count": 15,
     "metadata": {},
     "output_type": "execute_result"
    }
   ],
   "source": [
    "data['patient_date_created'].min(), data['patient_date_created'].max()"
   ]
  },
  {
   "cell_type": "code",
   "execution_count": 27,
   "metadata": {},
   "outputs": [
    {
     "data": {
      "text/plain": [
       "<matplotlib.axes._subplots.AxesSubplot at 0x23541415a48>"
      ]
     },
     "execution_count": 27,
     "metadata": {},
     "output_type": "execute_result"
    },
    {
     "data": {
      "image/png": "[encoded data removed]",
      "text/plain": [
       "<Figure size 864x504 with 1 Axes>"
      ]
     },
     "metadata": {
      "needs_background": "light"
     },
     "output_type": "display_data"
    }
   ],
   "source": [
    "plt.figure(figsize=(12,7))\n",
    "sns.barplot(pd.to_datetime(data['date']).dt.to_period('M'), data['score'])"
   ]
  },
  {
   "cell_type": "code",
   "execution_count": 28,
   "metadata": {},
   "outputs": [
    {
     "data": {
      "text/plain": [
       "<matplotlib.axes._subplots.AxesSubplot at 0x2354327ba88>"
      ]
     },
     "execution_count": 28,
     "metadata": {},
     "output_type": "execute_result"
    },
    {
     "data": {
      "image/png": "[encoded data removed]",
      "text/plain": [
       "<Figure size 864x504 with 1 Axes>"
      ]
     },
     "metadata": {
      "needs_background": "light"
     },
     "output_type": "display_data"
    }
   ],
   "source": [
    "plt.figure(figsize=(12,7))\n",
    "sns.barplot(pd.to_datetime(data['date']).dt.to_period('W'), data['score'])"
   ]
  },
  {
   "cell_type": "code",
   "execution_count": 32,
   "metadata": {},
   "outputs": [
    {
     "data": {
      "text/plain": [
       "2020-03-23/2020-03-29    1768\n",
       "2020-02-24/2020-03-01    1701\n",
       "2020-04-06/2020-04-12    1563\n",
       "2020-04-13/2020-04-19    1509\n",
       "2020-04-20/2020-04-26    1402\n",
       "                         ... \n",
       "2019-07-01/2019-07-07      73\n",
       "2019-06-24/2019-06-30      65\n",
       "2019-06-17/2019-06-23      46\n",
       "2019-06-10/2019-06-16      39\n",
       "2019-06-03/2019-06-09       5\n",
       "Freq: W-SUN, Name: date, Length: 61, dtype: int64"
      ]
     },
     "execution_count": 32,
     "metadata": {},
     "output_type": "execute_result"
    }
   ],
   "source": [
    "# Check if there are enouh samples for each week to make any conclusions\n",
    "pd.to_datetime(data['date']).dt.to_period('W').value_counts()"
   ]
  },
  {
   "cell_type": "markdown",
   "metadata": {},
   "source": [
    "The average score decreases over time and starts increasing a little at the end. This may indicate the trend of average well-being in the population. The last few months of the data are the first few months of COVID-related measures."
   ]
  },
  {
   "cell_type": "markdown",
   "metadata": {},
   "source": [
    "## Get average difference in scores per patient"
   ]
  },
  {
   "cell_type": "code",
   "execution_count": 105,
   "metadata": {},
   "outputs": [],
   "source": [
    "diff_on_scond_test = data.groupby('patient_id').apply(lambda x: x['score'].iloc[1] - x['score'].iloc[0])\n",
    "average_diff = data.groupby('patient_id').apply(lambda x: x['score'].diff(1).mean())\n",
    "average_diff_sign = data.groupby('patient_id').apply(lambda x: (x['score'].diff(1)[1:]>0).mean())"
   ]
  },
  {
   "cell_type": "code",
   "execution_count": 116,
   "metadata": {},
   "outputs": [
    {
     "data": {
      "text/plain": [
       "patient_id\n",
       "17088   -20.0\n",
       "9877    -20.0\n",
       "4119    -16.0\n",
       "1604    -16.0\n",
       "14294   -16.0\n",
       "         ... \n",
       "6409     15.0\n",
       "3828     15.0\n",
       "396      16.0\n",
       "7697     16.0\n",
       "1817     18.0\n",
       "Length: 10905, dtype: float64"
      ]
     },
     "execution_count": 116,
     "metadata": {},
     "output_type": "execute_result"
    }
   ],
   "source": [
    "average_diff.sort_values()"
   ]
  },
  {
   "cell_type": "code",
   "execution_count": 125,
   "metadata": {},
   "outputs": [
    {
     "data": {
      "text/plain": [
       "152"
      ]
     },
     "execution_count": 125,
     "metadata": {},
     "output_type": "execute_result"
    }
   ],
   "source": [
    "(average_diff.abs() > 10).sum()"
   ]
  },
  {
   "cell_type": "markdown",
   "metadata": {},
   "source": [
    "There are some patients with extreme changes in scores. These cases require individual investigation. I remove them from the data to reduce the noise that they create."
   ]
  },
  {
   "cell_type": "code",
   "execution_count": 133,
   "metadata": {},
   "outputs": [],
   "source": [
    "tmp = average_diff.abs() > 10\n",
    "tmp = tmp[tmp].index\n",
    "data = data[~data['patient_id'].isin(tmp)]"
   ]
  },
  {
   "cell_type": "code",
   "execution_count": 134,
   "metadata": {},
   "outputs": [],
   "source": [
    "diff_on_scond_test = data.groupby('patient_id').apply(lambda x: x['score'].iloc[1] - x['score'].iloc[0])\n",
    "average_diff = data.groupby('patient_id').apply(lambda x: x['score'].diff(1).mean())\n",
    "average_diff_sign = data.groupby('patient_id').apply(lambda x: (x['score'].diff(1)[1:]>0).mean())"
   ]
  },
  {
   "cell_type": "code",
   "execution_count": 135,
   "metadata": {},
   "outputs": [
    {
     "data": {
      "text/plain": [
       "-0.4097845186349764"
      ]
     },
     "execution_count": 135,
     "metadata": {},
     "output_type": "execute_result"
    }
   ],
   "source": [
    "diff_on_scond_test.mean()"
   ]
  },
  {
   "cell_type": "code",
   "execution_count": 136,
   "metadata": {},
   "outputs": [
    {
     "data": {
      "text/plain": [
       "-0.23571339103145808"
      ]
     },
     "execution_count": 136,
     "metadata": {},
     "output_type": "execute_result"
    }
   ],
   "source": [
    "average_diff.mean()"
   ]
  },
  {
   "cell_type": "code",
   "execution_count": 137,
   "metadata": {},
   "outputs": [
    {
     "data": {
      "text/plain": [
       "0.3550609485142684"
      ]
     },
     "execution_count": 137,
     "metadata": {},
     "output_type": "execute_result"
    }
   ],
   "source": [
    "average_diff_sign.mean()"
   ]
  },
  {
   "cell_type": "markdown",
   "metadata": {},
   "source": [
    "Average sign of the difference being positive indicates that for most assesments the score is larger than for the previous. However, average difference between consecutive scores is negative. It means that scores go up more often, but when they go down, the amount of change is larger."
   ]
  },
  {
   "cell_type": "markdown",
   "metadata": {},
   "source": [
    "## Split patients into severe, moderate and mild categories and check score differences for each group"
   ]
  },
  {
   "cell_type": "code",
   "execution_count": 86,
   "metadata": {},
   "outputs": [],
   "source": [
    "is_severe = data.groupby('patient_id')['score'].max() >= 16\n",
    "severe_patients = is_severe[is_severe].index\n",
    "\n",
    "is_moderate = (data.groupby('patient_id')['score'].max() < 16) & (data.groupby('patient_id')['score'].max() >= 11)\n",
    "moderate_patients = is_moderate[is_moderate].index\n",
    "\n",
    "is_mild = (data.groupby('patient_id')['score'].max() < 11) & (data.groupby('patient_id')['score'].max() >= 6)\n",
    "mild_patients = is_mild[is_mild].index"
   ]
  },
  {
   "cell_type": "code",
   "execution_count": 89,
   "metadata": {},
   "outputs": [],
   "source": [
    "severe_data = data[data['patient_id'].isin(severe_patients)]\n",
    "moderate_data = data[data['patient_id'].isin(moderate_patients)]\n",
    "mild_data = data[data['patient_id'].isin(mild_patients)]"
   ]
  },
  {
   "cell_type": "code",
   "execution_count": 104,
   "metadata": {},
   "outputs": [
    {
     "name": "stdout",
     "output_type": "stream",
     "text": [
      "Severe: \n",
      "Average diff on second test:  -0.5930984902947519\n",
      "Average diff overall:  -0.43555923821826575\n",
      "Average diff sign:  0.41779729383085296 \n",
      "\n",
      "Moderate: \n",
      "Average diff on second test:  -0.8688524590163934\n",
      "Average diff overall:  -0.5240823137135882\n",
      "Average diff sign:  0.40921210841205763 \n",
      "\n",
      "Mild: \n",
      "Average diff on second test:  -0.5234345706786652\n",
      "Average diff overall:  -0.2983479961350614\n",
      "Average diff sign:  0.40080869188299506 \n",
      "\n"
     ]
    }
   ],
   "source": [
    "groups = [severe_data, moderate_data, mild_data]\n",
    "labels = ['Severe', 'Moderate', 'Mild']\n",
    "for i in range(len(groups))\n",
    "    group = groups[i]\n",
    "    diff_on_scond_test = group.groupby('patient_id').apply(lambda x: x['score'].iloc[1] - x['score'].iloc[0])\n",
    "    average_diff = group.groupby('patient_id').apply(lambda x: x['score'].diff(1).mean())\n",
    "    average_diff_sign = group.groupby('patient_id').apply(lambda x: (x['score'].diff(1)[1:]>0).mean())\n",
    "    \n",
    "    print(labels[i] + ': ')\n",
    "    print('Average diff on second test: ', diff_on_scond_test.mean())\n",
    "    print('Average diff overall: ', average_diff.mean())\n",
    "    print('Average diff sign: ', average_diff_sign.mean(), '\\n')"
   ]
  },
  {
   "cell_type": "markdown",
   "metadata": {},
   "source": [
    "For moderate group the score difference is the largest, both after the second assesment and overall. Mild group has the smallest change in scores. Either the treatment is more effective for more severe cases or the assesments are designed in such a way that small changes in severe cases are more accentuated."
   ]
  },
  {
   "cell_type": "markdown",
   "metadata": {},
   "source": [
    "For further investigation of the data it would be useful to have information on which care provider is working with the patient and which treatment approaches are used. This would allow to compare them and asses whether some of them are more effective than the others."
   ]
  }
 ],
 "metadata": {
  "kernelspec": {
   "display_name": "Python 3",
   "language": "python",
   "name": "python3"
  },
  "language_info": {
   "codemirror_mode": {
    "name": "ipython",
    "version": 3
   },
   "file_extension": ".py",
   "mimetype": "text/x-python",
   "name": "python",
   "nbconvert_exporter": "python",
   "pygments_lexer": "ipython3",
   "version": "3.7.6"
  }
 },
 "nbformat": 4,
 "nbformat_minor": 4
}
